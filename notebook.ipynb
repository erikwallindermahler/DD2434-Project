{
 "cells": [
  {
   "cell_type": "markdown",
   "metadata": {},
   "source": [
    "# Project DD2434\n",
    "## Run instructions\n",
    "Tested in python 3.12.6, in a .venv environment\n",
    "\n",
    "## Datasets\n",
    "### Text document datasets\n",
    "The original paper used 4 datsets from different newsgroups, sci.crypt, sci.med, sci.space and soc.religion.christian, which are available at `URL`\n",
    "\n",
    "We also used `DATASET`\n",
    "\n",
    "### Image datasets\n",
    "\n",
    "\n",
    "The original paper used 13 monochromatic images of still life as the basis for the image datasets, which are unfortunately not available any longer. \n",
    "\n",
    "\n"
   ]
  },
  {
   "cell_type": "code",
   "execution_count": 1,
   "metadata": {},
   "outputs": [],
   "source": [
    "import numpy as np\n",
    "from matplotlib import pyplot as plt"
   ]
  },
  {
   "cell_type": "code",
   "execution_count": 32,
   "metadata": {},
   "outputs": [],
   "source": [
    "def normalizecolumns(d):\n",
    "    \"\"\"\n",
    "    Return a matrix where the columns have unit length\n",
    "    \"\"\"\n",
    "    \n",
    "    o = np.zeros(d.shape)\n",
    "    for col in range(d.shape[1]):\n",
    "        total_length = 0\n",
    "        for row in range(d.shape[0]):\n",
    "            total_length += d[(row,col)]**2\n",
    "        \n",
    "        for row in range(d.shape[0]):\n",
    "            o[(row,col)] = d[(row,col)]/np.sqrt(total_length)\n",
    "    return o\n",
    "    \n",
    "    \n",
    "\n",
    "def RP(dataset,k):\n",
    "    \"\"\"\n",
    "    Dataset - d x N, where d is the # of dimensions, N is the # of data points.\n",
    "    Creates appropriate matrix R (k x d), to transform into a lower dimension representation\n",
    "    \"\"\"\n",
    "    d = dataset.shape[0]\n",
    "    return normalizecolumns(np.random.normal(size=(k,d)))\n",
    "\n",
    "\n",
    "def SRP(dataset,k):\n",
    "    d = dataset.shape[0]\n",
    "    o = np.zeros((k,d))\n",
    "    for row in range(k):\n",
    "        for col in range(d):\n",
    "            r = np.random.random()\n",
    "            if r < 1/6:\n",
    "                o[(row,col)] = np.sqrt(3)\n",
    "            elif r > 5/6:\n",
    "                o[(row,col)] = -np.sqrt(3)\n",
    "    return normalizecolumns(o)"
   ]
  },
  {
   "cell_type": "code",
   "execution_count": 31,
   "metadata": {},
   "outputs": [
    {
     "name": "stdout",
     "output_type": "stream",
     "text": [
      "[[ 3.11667395  6.2333479   9.35002184 22.52664028]\n",
      " [ 0.68844691  1.37689382  2.06534072  8.70250064]]\n",
      "(7, 4)\n"
     ]
    }
   ],
   "source": [
    "a = np.matrix([[1,2,3,4],[1,2,3,8],[1,2,3,8],[1,2,3,8],[1,2,3,8],[1,2,3,8],[1,2,3,8]])\n",
    "\n",
    "print(RP(a,2) * a)\n"
   ]
  },
  {
   "cell_type": "code",
   "execution_count": null,
   "metadata": {},
   "outputs": [],
   "source": []
  }
 ],
 "metadata": {
  "kernelspec": {
   "display_name": ".venv",
   "language": "python",
   "name": "python3"
  },
  "language_info": {
   "codemirror_mode": {
    "name": "ipython",
    "version": 3
   },
   "file_extension": ".py",
   "mimetype": "text/x-python",
   "name": "python",
   "nbconvert_exporter": "python",
   "pygments_lexer": "ipython3",
   "version": "3.12.6"
  }
 },
 "nbformat": 4,
 "nbformat_minor": 2
}
